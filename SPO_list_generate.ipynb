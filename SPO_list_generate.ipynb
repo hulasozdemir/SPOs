{
 "cells": [
  {
   "cell_type": "code",
   "execution_count": 14,
   "id": "d6127be9-2e63-49ac-8456-14a8f557ae3a",
   "metadata": {},
   "outputs": [],
   "source": [
    "import requests\n",
    "import pandas as pd\n",
    "from bs4 import BeautifulSoup\n",
    "\n",
    "from selenium import webdriver\n",
    "from selenium.webdriver.support.ui import Select\n",
    "from selenium.webdriver.common.by import By"
   ]
  },
  {
   "cell_type": "code",
   "execution_count": 20,
   "id": "a71270d2-538a-4cf7-a50e-17e523e9a512",
   "metadata": {},
   "outputs": [],
   "source": [
    "\"\"\"\n",
    "By default the table only shows locations. But we have the option to show all locations in a single table.\n",
    "Use selenium to automatically show all locations.\n",
    "This code block throws an error on initial run. Subsequent runs work fine.\n",
    "\"\"\"\n",
    "\n",
    "website_address = 'https://ircc.canada.ca/english/newcomers/services/index.asp'\n",
    "\n",
    "driver = webdriver.Chrome()\n",
    "driver.get(website_address)\n",
    "select = Select(driver.find_element(\"name\", \"table1_length\"))\n",
    "select.select_by_visible_text('all')"
   ]
  },
  {
   "cell_type": "code",
   "execution_count": 21,
   "id": "838832d4-75b3-4df5-9703-9fe6acdaf847",
   "metadata": {},
   "outputs": [],
   "source": [
    "\"\"\"\n",
    "Parse the selenium page into a soup\n",
    "\"\"\"\n",
    "table = driver.find_element(\"id\",\"table1tbody\")\n",
    "table_html = table.get_attribute('outerHTML')\n",
    "\n",
    "\n",
    "# Parse the HTML content using BeautifulSoup\n",
    "soup = BeautifulSoup(table_html, 'html.parser')\n",
    "driver.quit()"
   ]
  },
  {
   "cell_type": "code",
   "execution_count": 17,
   "id": "d8989c9c-f4fc-4602-a02c-81476a9d46ef",
   "metadata": {},
   "outputs": [],
   "source": [
    "\"\"\"\n",
    "Address, telephone, and email addresses are sandwiched between two <br> elements. They are not inside an element unlike <a> tags.\n",
    "This code\n",
    "1)Loops through all <br> tags.\n",
    "2)Finds the following <br> tag\n",
    "3)Extract the text between the two tags.\n",
    "\"\"\"\n",
    "def get_texts(col):\n",
    "    br_tags = col.find_all('br')\n",
    "    texts = []\n",
    "# Extract the text that follows the <br> tag\n",
    "    for br_tag in br_tags:\n",
    "        if br_tag:\n",
    "            try:\n",
    "                br_text = br_tag.find_next_sibling(text=True).strip()\n",
    "                texts.append(br_text)\n",
    "            except(AttributeError):\n",
    "                pass\n",
    "    return texts"
   ]
  },
  {
   "cell_type": "code",
   "execution_count": 18,
   "id": "7ab616f5-aed6-4f1d-abd1-8325508f5d07",
   "metadata": {},
   "outputs": [],
   "source": [
    "# Headers for the CSV file\n",
    "SPOs = [[\"Name\", \"Address\", \"City/Province\", \"Postal Code\", \"Country\", \"Telephone\", \"Email\"]]\n",
    "\n",
    "rows = soup.find_all('tr')\n",
    "for row in rows:\n",
    "    cols = row.find_all('td')\n",
    "    for col in cols:\n",
    "        all_a = col.find_all(\"a\")\n",
    "        # We need to handle the case where some entries in the table are missing information, such as a telephone number. \n",
    "        # We can do this by checking if the desired information exists before trying to extract it, and handling the case where it does not exist using an exception or a default value.\"\n",
    "        if len(all_a) > 0:\n",
    "            br_texts = get_texts(col)\n",
    "            try: \n",
    "                if len(all_a) < 3:\n",
    "                    SPO = [all_a[0].text, all_a[1].text, br_texts[0], br_texts[1], br_texts[2], br_texts[3], \" \"]\n",
    "                else: \n",
    "                    SPO = [all_a[0].text, all_a[1].text, br_texts[0], br_texts[1], br_texts[2], br_texts[3], all_a[2].text]\n",
    "            except(IndexError):\n",
    "                if len(all_a) < 3:\n",
    "                    SPO = [all_a[0].text, all_a[1].text, br_texts[0], br_texts[1], br_texts[2], \"\" , \" \"]\n",
    "                else: \n",
    "                    SPO = [all_a[0].text, all_a[1].text, br_texts[0], br_texts[1], br_texts[2], \" \", all_a[2].text]\n",
    "    SPOs.append(SPO)"
   ]
  },
  {
   "cell_type": "code",
   "execution_count": 19,
   "id": "b0da568c-50a5-4741-9bc6-3878e3c45c36",
   "metadata": {},
   "outputs": [],
   "source": [
    "import csv\n",
    "\n",
    "with open(\"SPOs.csv\", \"w\", newline=\"\") as f:\n",
    "    writer = csv.writer(f)\n",
    "    writer.writerows(SPOs)"
   ]
  },
  {
   "cell_type": "code",
   "execution_count": null,
   "id": "493d259a-ad17-4864-b344-bd4a142f52ba",
   "metadata": {},
   "outputs": [],
   "source": []
  }
 ],
 "metadata": {
  "kernelspec": {
   "display_name": "Python 3",
   "language": "python",
   "name": "python3"
  },
  "language_info": {
   "codemirror_mode": {
    "name": "ipython",
    "version": 3
   },
   "file_extension": ".py",
   "mimetype": "text/x-python",
   "name": "python",
   "nbconvert_exporter": "python",
   "pygments_lexer": "ipython3",
   "version": "3.9.12"
  }
 },
 "nbformat": 4,
 "nbformat_minor": 5
}
