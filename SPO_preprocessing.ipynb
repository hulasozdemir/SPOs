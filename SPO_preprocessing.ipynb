{
 "cells": [
  {
   "cell_type": "code",
   "execution_count": 1,
   "id": "4c994300-1155-475b-8ce8-a80d8572748e",
   "metadata": {},
   "outputs": [],
   "source": [
    "import pandas as pd\n",
    "import numpy as np"
   ]
  },
  {
   "cell_type": "code",
   "execution_count": 2,
   "id": "aeb3a427-6281-4fd7-9052-7a2fb93a9cd2",
   "metadata": {},
   "outputs": [],
   "source": [
    "SPOs = pd.read_csv(\"SPOs.csv\")"
   ]
  },
  {
   "cell_type": "code",
   "execution_count": 3,
   "id": "ef8e0bd2-c5db-4920-8cec-2c8227f3dd35",
   "metadata": {},
   "outputs": [
    {
     "data": {
      "text/html": [
       "<div>\n",
       "<style scoped>\n",
       "    .dataframe tbody tr th:only-of-type {\n",
       "        vertical-align: middle;\n",
       "    }\n",
       "\n",
       "    .dataframe tbody tr th {\n",
       "        vertical-align: top;\n",
       "    }\n",
       "\n",
       "    .dataframe thead th {\n",
       "        text-align: right;\n",
       "    }\n",
       "</style>\n",
       "<table border=\"1\" class=\"dataframe\">\n",
       "  <thead>\n",
       "    <tr style=\"text-align: right;\">\n",
       "      <th></th>\n",
       "      <th>Name</th>\n",
       "      <th>Address</th>\n",
       "      <th>Province</th>\n",
       "      <th>City</th>\n",
       "      <th>Postal Code</th>\n",
       "      <th>Telephone</th>\n",
       "      <th>Email</th>\n",
       "      <th>Services Offered</th>\n",
       "    </tr>\n",
       "  </thead>\n",
       "  <tbody>\n",
       "    <tr>\n",
       "      <th>0</th>\n",
       "      <td>A &amp; O: Support Services for Older Adults</td>\n",
       "      <td>200 - 280 Smith Street</td>\n",
       "      <td>Manitoba</td>\n",
       "      <td>Winnipeg</td>\n",
       "      <td>R3C 1K2</td>\n",
       "      <td>204-956-6440</td>\n",
       "      <td>amacrae@ageopportunity.mb.ca</td>\n",
       "      <td>Help preparing for the citizenship test, Other...</td>\n",
       "    </tr>\n",
       "    <tr>\n",
       "      <th>1</th>\n",
       "      <td>Accès emploi Alberta</td>\n",
       "      <td>202-8627 Marie-Anne-Gaboury ST</td>\n",
       "      <td>Alberta</td>\n",
       "      <td>Edmonton</td>\n",
       "      <td>T6C 3N1</td>\n",
       "      <td>780-490-6975</td>\n",
       "      <td>ae@accesemploi.net</td>\n",
       "      <td>Help with daily life, Help finding a job, Fran...</td>\n",
       "    </tr>\n",
       "    <tr>\n",
       "      <th>2</th>\n",
       "      <td>ACCES Employment</td>\n",
       "      <td>2001 Sheppard Ave E. Suite 201</td>\n",
       "      <td>Ontario</td>\n",
       "      <td>Toronto</td>\n",
       "      <td>M2J 4Z8</td>\n",
       "      <td>416-443-9008</td>\n",
       "      <td></td>\n",
       "      <td>Help with daily life, Help finding a job, Job-...</td>\n",
       "    </tr>\n",
       "    <tr>\n",
       "      <th>3</th>\n",
       "      <td>Acces Employment</td>\n",
       "      <td>2085 Hurontario Street, Suite 210</td>\n",
       "      <td>Ontario</td>\n",
       "      <td>Mississauga</td>\n",
       "      <td>L5A 4G1</td>\n",
       "      <td>905-361-2522</td>\n",
       "      <td></td>\n",
       "      <td>Help with daily life, Help finding a job, Job-...</td>\n",
       "    </tr>\n",
       "    <tr>\n",
       "      <th>4</th>\n",
       "      <td>ACCES Employment</td>\n",
       "      <td>2100 Ellesmere Road, Suite 250</td>\n",
       "      <td>Ontario</td>\n",
       "      <td>Toronto</td>\n",
       "      <td>M1H 3B7</td>\n",
       "      <td>416-431-5326</td>\n",
       "      <td></td>\n",
       "      <td>Help with daily life, Help finding a job, Job-...</td>\n",
       "    </tr>\n",
       "    <tr>\n",
       "      <th>...</th>\n",
       "      <td>...</td>\n",
       "      <td>...</td>\n",
       "      <td>...</td>\n",
       "      <td>...</td>\n",
       "      <td>...</td>\n",
       "      <td>...</td>\n",
       "      <td>...</td>\n",
       "      <td>...</td>\n",
       "    </tr>\n",
       "    <tr>\n",
       "      <th>1264</th>\n",
       "      <td>YWCA St. Thomas Elgin</td>\n",
       "      <td>16 Mary Street West</td>\n",
       "      <td>Ontario</td>\n",
       "      <td>St. Thomas</td>\n",
       "      <td>N5P 2S3</td>\n",
       "      <td>519-631-9800</td>\n",
       "      <td>settlement@ywcaste.ca</td>\n",
       "      <td>Help with daily life, Help finding a job, Help...</td>\n",
       "    </tr>\n",
       "    <tr>\n",
       "      <th>1265</th>\n",
       "      <td>YWCA St. Thomas Elgin</td>\n",
       "      <td>20 Talbot Street East</td>\n",
       "      <td>Ontario</td>\n",
       "      <td>Aylmer</td>\n",
       "      <td>N5H 1H4</td>\n",
       "      <td>519-631-9800</td>\n",
       "      <td>settlement@ywcaste.ca</td>\n",
       "      <td>Language training (general)</td>\n",
       "    </tr>\n",
       "    <tr>\n",
       "      <th>1266</th>\n",
       "      <td>YWCA St. Thomas Elgin</td>\n",
       "      <td>6700 Springfield Road</td>\n",
       "      <td>Ontario</td>\n",
       "      <td>Aylmer</td>\n",
       "      <td>N5H 2R2</td>\n",
       "      <td>519-631-9800</td>\n",
       "      <td>settlement@ywcaste.ca</td>\n",
       "      <td>Language training (general)</td>\n",
       "    </tr>\n",
       "    <tr>\n",
       "      <th>1267</th>\n",
       "      <td>YWCA Toronto</td>\n",
       "      <td>222 Dixon Road, Suite 207</td>\n",
       "      <td>Ontario</td>\n",
       "      <td>Toronto</td>\n",
       "      <td>M9P 3S5</td>\n",
       "      <td>416-964-3883</td>\n",
       "      <td></td>\n",
       "      <td>Help with daily life, Help finding a job, Find...</td>\n",
       "    </tr>\n",
       "    <tr>\n",
       "      <th>1268</th>\n",
       "      <td>YWCA Toronto</td>\n",
       "      <td>3090 Kingston Road, Suite 205</td>\n",
       "      <td>Ontario</td>\n",
       "      <td>Toronto</td>\n",
       "      <td>M1M 1P2</td>\n",
       "      <td>416-266-0303</td>\n",
       "      <td></td>\n",
       "      <td>Help with daily life, Help finding a job, Find...</td>\n",
       "    </tr>\n",
       "  </tbody>\n",
       "</table>\n",
       "<p>1269 rows × 8 columns</p>\n",
       "</div>"
      ],
      "text/plain": [
       "                                          Name  \\\n",
       "0     A & O: Support Services for Older Adults   \n",
       "1                         Accès emploi Alberta   \n",
       "2                             ACCES Employment   \n",
       "3                             Acces Employment   \n",
       "4                             ACCES Employment   \n",
       "...                                        ...   \n",
       "1264                     YWCA St. Thomas Elgin   \n",
       "1265                     YWCA St. Thomas Elgin   \n",
       "1266                     YWCA St. Thomas Elgin   \n",
       "1267                              YWCA Toronto   \n",
       "1268                              YWCA Toronto   \n",
       "\n",
       "                                Address  Province         City Postal Code  \\\n",
       "0               200 - 280 Smith Street   Manitoba     Winnipeg     R3C 1K2   \n",
       "1        202-8627 Marie-Anne-Gaboury ST   Alberta     Edmonton     T6C 3N1   \n",
       "2        2001 Sheppard Ave E. Suite 201   Ontario      Toronto     M2J 4Z8   \n",
       "3     2085 Hurontario Street, Suite 210   Ontario  Mississauga     L5A 4G1   \n",
       "4        2100 Ellesmere Road, Suite 250   Ontario      Toronto     M1H 3B7   \n",
       "...                                 ...       ...          ...         ...   \n",
       "1264                16 Mary Street West   Ontario   St. Thomas     N5P 2S3   \n",
       "1265              20 Talbot Street East   Ontario       Aylmer     N5H 1H4   \n",
       "1266              6700 Springfield Road   Ontario       Aylmer     N5H 2R2   \n",
       "1267          222 Dixon Road, Suite 207   Ontario      Toronto     M9P 3S5   \n",
       "1268      3090 Kingston Road, Suite 205   Ontario      Toronto     M1M 1P2   \n",
       "\n",
       "         Telephone                         Email  \\\n",
       "0     204-956-6440  amacrae@ageopportunity.mb.ca   \n",
       "1     780-490-6975            ae@accesemploi.net   \n",
       "2     416-443-9008                                 \n",
       "3     905-361-2522                                 \n",
       "4     416-431-5326                                 \n",
       "...            ...                           ...   \n",
       "1264  519-631-9800         settlement@ywcaste.ca   \n",
       "1265  519-631-9800         settlement@ywcaste.ca   \n",
       "1266  519-631-9800         settlement@ywcaste.ca   \n",
       "1267  416-964-3883                                 \n",
       "1268  416-266-0303                                 \n",
       "\n",
       "                                       Services Offered  \n",
       "0     Help preparing for the citizenship test, Other...  \n",
       "1     Help with daily life, Help finding a job, Fran...  \n",
       "2     Help with daily life, Help finding a job, Job-...  \n",
       "3     Help with daily life, Help finding a job, Job-...  \n",
       "4     Help with daily life, Help finding a job, Job-...  \n",
       "...                                                 ...  \n",
       "1264  Help with daily life, Help finding a job, Help...  \n",
       "1265                        Language training (general)  \n",
       "1266                        Language training (general)  \n",
       "1267  Help with daily life, Help finding a job, Find...  \n",
       "1268  Help with daily life, Help finding a job, Find...  \n",
       "\n",
       "[1269 rows x 8 columns]"
      ]
     },
     "execution_count": 3,
     "metadata": {},
     "output_type": "execute_result"
    }
   ],
   "source": [
    "SPOs"
   ]
  },
  {
   "cell_type": "code",
   "execution_count": 4,
   "id": "c879e799-856d-467d-b39a-9ee398f7f621",
   "metadata": {},
   "outputs": [
    {
     "data": {
      "text/plain": [
       "Index(['Name', 'Address', 'Province', 'City', 'Postal Code', 'Telephone',\n",
       "       'Email', 'Services Offered'],\n",
       "      dtype='object')"
      ]
     },
     "execution_count": 4,
     "metadata": {},
     "output_type": "execute_result"
    }
   ],
   "source": [
    "SPOs[\"Services Offered\"] = SPOs[\"Services Offered\"].str.replace(r',\\s+', ',', regex=True)\n",
    "SPOs.columns"
   ]
  },
  {
   "cell_type": "code",
   "execution_count": 5,
   "id": "79557a8c-a448-4ae2-bbab-ed47ce179a04",
   "metadata": {},
   "outputs": [
    {
     "name": "stderr",
     "output_type": "stream",
     "text": [
      "/var/folders/l0/2jm3f21d7g96tn3vmxmkfdnh0000gn/T/ipykernel_95369/1970306280.py:1: FutureWarning: In a future version of pandas all arguments of DataFrame.drop except for the argument 'labels' will be keyword-only.\n",
      "  SPOs_processed = pd.concat([SPOs.drop('Services Offered', 1), SPOs['Services Offered'].str.get_dummies(sep=\",\").astype(bool)],1)\n",
      "/var/folders/l0/2jm3f21d7g96tn3vmxmkfdnh0000gn/T/ipykernel_95369/1970306280.py:1: FutureWarning: In a future version of pandas all arguments of concat except for the argument 'objs' will be keyword-only.\n",
      "  SPOs_processed = pd.concat([SPOs.drop('Services Offered', 1), SPOs['Services Offered'].str.get_dummies(sep=\",\").astype(bool)],1)\n"
     ]
    }
   ],
   "source": [
    "SPOs_processed = pd.concat([SPOs.drop('Services Offered', 1), SPOs['Services Offered'].str.get_dummies(sep=\",\").astype(bool)],1)"
   ]
  },
  {
   "cell_type": "code",
   "execution_count": 6,
   "id": "b098bf06-ac60-45cc-ad7b-c5c62fe07efc",
   "metadata": {},
   "outputs": [
    {
     "data": {
      "text/plain": [
       "Index(['Name', 'Address', 'Province', 'City', 'Postal Code', 'Telephone',\n",
       "       'Email', 'Find or become a mentor to a newcomer',\n",
       "       'Francophone service provider', 'Help finding a job',\n",
       "       'Help preparing for the citizenship test', 'Help with daily life',\n",
       "       'Job-specific language training', 'Language assessment',\n",
       "       'Language training (general)', 'Other Services', 'Services for LGBTQ2',\n",
       "       'Services for refugees', 'Services for seniors', 'Services for women',\n",
       "       'Services for youth'],\n",
       "      dtype='object')"
      ]
     },
     "execution_count": 6,
     "metadata": {},
     "output_type": "execute_result"
    }
   ],
   "source": [
    "SPOs_processed.columns"
   ]
  },
  {
   "cell_type": "code",
   "execution_count": 7,
   "id": "89d5f9b9-e4ad-438f-926f-b151f7dc1146",
   "metadata": {},
   "outputs": [],
   "source": [
    "SPOs_processed.to_csv(\"SPOs_processed.csv\",index=False)"
   ]
  },
  {
   "cell_type": "code",
   "execution_count": null,
   "id": "720e735e-90ba-4b05-8219-b4c825905270",
   "metadata": {},
   "outputs": [],
   "source": []
  }
 ],
 "metadata": {
  "kernelspec": {
   "display_name": "Python 3 (ipykernel)",
   "language": "python",
   "name": "python3"
  },
  "language_info": {
   "codemirror_mode": {
    "name": "ipython",
    "version": 3
   },
   "file_extension": ".py",
   "mimetype": "text/x-python",
   "name": "python",
   "nbconvert_exporter": "python",
   "pygments_lexer": "ipython3",
   "version": "3.9.12"
  }
 },
 "nbformat": 4,
 "nbformat_minor": 5
}
